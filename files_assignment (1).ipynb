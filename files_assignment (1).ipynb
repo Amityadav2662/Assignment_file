{
 "cells": [
  {
   "cell_type": "code",
   "execution_count": null,
   "id": "1a7d719d-828c-4f2e-8632-674eb30c1ec1",
   "metadata": {},
   "outputs": [],
   "source": [
    "# Q1. Which function is used to open a file? What are the different modes of opening a file? Explain each mode\n",
    "# of file opening.\n",
    "Ans.\n",
    "The open() function is used to open a file where we write the file path and the mode in which the file should be opened.\n",
    "\n",
    "There are different modes of opening a file.\n",
    "'r' (Read Mode): This is the default mode. It opens the file for reading and returns a file object.You can read the\n",
    "contents of the file using methods like read(), readline(), or readlines().\n",
    "\n",
    "'w' (Write Mode): It opens the file for writing. If the file already exists, it truncates the file to zero length. \n",
    "If the file does not exist, it creates a new file. You can write to the file using methods like write() or writelines(). \n",
    "If the file is opened in write mode and it already contains data, the existing data will be overwritten.\n",
    "\n",
    "'t' (Text Mode): This is the default mode and opens the file in text mode, allowing you to read or write strings.\n",
    "It is usually combined with other modes (e.g., 'rt', 'wt', 'at').\n",
    "\n",
    "'b' (Binary Mode): It opens the file in binary mode, allowing you to read or write binary data. It is usually combined\n",
    "with other modes (e.g., 'rb', 'wb', 'ab').\n",
    "\n",
    "The each of mode of file opening.\n",
    "Read mode = with open('sample.txt','r') as f\n",
    "Write mode = with open('sample.txt,'w') as f\n",
    "Text mode = with open('sample.txt,'wt') as f   \n",
    "Binary mode = with open('sample.txt,'rb') as f    "
   ]
  },
  {
   "cell_type": "code",
   "execution_count": null,
   "id": "d8f97842-4b6e-42b8-adfa-b8d91de0bc0a",
   "metadata": {},
   "outputs": [],
   "source": [
    "# Q2.Why close() function is used? Why is it important to close a file?\n",
    "Ans.\n",
    "function in Python is used to close an open file. It is important to close a file after you have finished working with it.\n",
    "There are several reason to close the file and it is important:security, Data integrity, File locking, File Size limitations."
   ]
  },
  {
   "cell_type": "code",
   "execution_count": 3,
   "id": "c6a92961-7922-4f63-a902-4fcb0268106c",
   "metadata": {},
   "outputs": [],
   "source": [
    "# Q3.Write a python program to create a text file. Write ‘I want to become a Data Scientist’ in that file. Then\n",
    "# close the file. Open this file and read the content of the file.\n",
    "with open(\"Sample.txt\",\"w\") as f:\n",
    "    f.write(\"I want to become a Data Scientist\")\n",
    "    f.close()"
   ]
  },
  {
   "cell_type": "code",
   "execution_count": 5,
   "id": "5d14242a-4158-4b23-9164-82dcbbdd2f4f",
   "metadata": {},
   "outputs": [
    {
     "name": "stdout",
     "output_type": "stream",
     "text": [
      "I want to become a Data Scientist\n"
     ]
    }
   ],
   "source": [
    "with open(\"Sample.txt\",\"r\") as f:\n",
    "    print(f.read())\n",
    "    f.close()"
   ]
  },
  {
   "cell_type": "code",
   "execution_count": null,
   "id": "bed570fe-339d-4a7b-93d4-b9043e96331f",
   "metadata": {},
   "outputs": [],
   "source": [
    "# Q4.Explain the following with python code: read(), readline() and readlines().\n",
    "Ans.\n",
    "1. read() : The read() method is used to read the entire content of a file as a single string. It reads and returns all the \n",
    "characters from the current file position till the end of the file."
   ]
  },
  {
   "cell_type": "code",
   "execution_count": 6,
   "id": "c54dad73-c416-42ad-934c-02da62587467",
   "metadata": {},
   "outputs": [
    {
     "name": "stdout",
     "output_type": "stream",
     "text": [
      "I want to become a Data Scientist\n"
     ]
    }
   ],
   "source": [
    "# Read\n",
    "with open(\"Sample.txt\",'r') as f:\n",
    "    print(f.read())\n",
    "    f.close()"
   ]
  },
  {
   "cell_type": "code",
   "execution_count": null,
   "id": "d439ed78-c203-4e34-813c-eee02922236c",
   "metadata": {},
   "outputs": [],
   "source": [
    "2. readline() :  The readline() method is used to read a single line from a file. Each time it is called, it reads the next line\n",
    "from the current file position."
   ]
  },
  {
   "cell_type": "code",
   "execution_count": 12,
   "id": "279278c3-5e6f-4cc0-beb1-410cdd20ff52",
   "metadata": {},
   "outputs": [],
   "source": [
    "# Readline\n",
    "with open(\"Sample.txt\",'w') as f:\n",
    "    f.write(\"I \\nwant \\nto \\nbecome \\na \\nData \\nScientist\")\n",
    "    f.close()"
   ]
  },
  {
   "cell_type": "code",
   "execution_count": 13,
   "id": "e42b1dd4-2362-49f5-a34d-ec27ac2cf310",
   "metadata": {},
   "outputs": [
    {
     "name": "stdout",
     "output_type": "stream",
     "text": [
      "I \n",
      "\n"
     ]
    }
   ],
   "source": [
    "with open(\"Sample.txt\",\"r\") as f:\n",
    "    print(f.readline())\n",
    "    f.close()"
   ]
  },
  {
   "cell_type": "code",
   "execution_count": null,
   "id": "e4072e6c-5a80-400a-9b07-7ebb601ea857",
   "metadata": {},
   "outputs": [],
   "source": [
    "3. readlines() : The readlines() method is used to read all the lines of a file and returns them as a list of strings, where \n",
    "each string represents a line."
   ]
  },
  {
   "cell_type": "code",
   "execution_count": 14,
   "id": "5ce2ed39-dc8b-4343-9276-3b441208feed",
   "metadata": {},
   "outputs": [
    {
     "name": "stdout",
     "output_type": "stream",
     "text": [
      "['I \\n', 'want \\n', 'to \\n', 'become \\n', 'a \\n', 'Data \\n', 'Scientist']\n"
     ]
    }
   ],
   "source": [
    "with open(\"Sample.txt\",\"r\") as f:\n",
    "    print(f.readlines())\n",
    "    f.close()"
   ]
  },
  {
   "cell_type": "code",
   "execution_count": null,
   "id": "d9947e90-1e27-4c2b-a9ec-529ada94264d",
   "metadata": {},
   "outputs": [],
   "source": [
    "# Q5. Explain why with statement is used with open(). What is the advantage of using with statement and\n",
    "# open() together?\n",
    "Ans.\n",
    "The with statement in Python is used in conjunction with the open() function to provide automatic resource management and proper\n",
    "file handling. It ensures that the file is opened and closed correctly, even in the presence of exceptions.\n",
    "\n",
    "The advantage of using the with statement with open() is that it guarantees the proper closure of the file, prevents resource leaks,\n",
    "handles exceptions gracefully, and leads to more concise and readable code. "
   ]
  },
  {
   "cell_type": "code",
   "execution_count": null,
   "id": "85a7b044-aa60-44e5-b15b-a026a082541d",
   "metadata": {},
   "outputs": [],
   "source": [
    "# Q6.Explain the write() and writelines() functions. Give a suitable example.\n",
    "Ans.\n",
    "Write(): The write() function is used to write a string of characters to a file. It takes a single argument, which is the\n",
    "string to be written, and returns the number of characters written."
   ]
  },
  {
   "cell_type": "code",
   "execution_count": 15,
   "id": "dbebc95e-d9bd-4bad-b169-d2a3ccd98103",
   "metadata": {},
   "outputs": [],
   "source": [
    "# Write()\n",
    "with open(\"Sample1.txt\",'w') as f:\n",
    "    f.write(\"Today is raining day.\")\n",
    "    f.write(\"\\nToday monsoon is come\")\n",
    "    f.close()"
   ]
  },
  {
   "cell_type": "code",
   "execution_count": null,
   "id": "1ceaef3b-865b-42d1-8bf9-2dfc1d51af92",
   "metadata": {},
   "outputs": [],
   "source": [
    "Writeline() : The writelines() function is used to write a list of strings to a file. It takes a single argument, which is an\n",
    "iterable (such as a list or tuple) containing the strings to be written. It does not add newline characters automatically,\n",
    "so you need to include them in the strings if desired."
   ]
  },
  {
   "cell_type": "code",
   "execution_count": 23,
   "id": "673aa00a-ac46-4f9f-ad9f-812d9656167b",
   "metadata": {},
   "outputs": [],
   "source": [
    "with open(\"Sample1.txt\",'w') as f:\n",
    "    f.writelines([\"Today is raining day.\",\"\\nLet's eat Samosa\",\"\\nWith Tea\"])\n",
    "    f.close()"
   ]
  },
  {
   "cell_type": "code",
   "execution_count": null,
   "id": "e9fd6260-b862-4bc5-b908-6d8f0dc62d87",
   "metadata": {},
   "outputs": [],
   "source": []
  }
 ],
 "metadata": {
  "kernelspec": {
   "display_name": "Python 3 (ipykernel)",
   "language": "python",
   "name": "python3"
  },
  "language_info": {
   "codemirror_mode": {
    "name": "ipython",
    "version": 3
   },
   "file_extension": ".py",
   "mimetype": "text/x-python",
   "name": "python",
   "nbconvert_exporter": "python",
   "pygments_lexer": "ipython3",
   "version": "3.10.8"
  }
 },
 "nbformat": 4,
 "nbformat_minor": 5
}
